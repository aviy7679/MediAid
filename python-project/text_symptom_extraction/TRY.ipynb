{
 "cells": [
  {
   "cell_type": "code",
   "id": "initial_id",
   "metadata": {
    "collapsed": true,
    "ExecuteTime": {
     "end_time": "2025-05-11T12:31:20.154553Z",
     "start_time": "2025-05-11T12:30:54.062971Z"
    }
   },
   "source": [
    "from medcat.cat import CAT\n",
    "import time\n",
    "import json"
   ],
   "outputs": [],
   "execution_count": 2
  },
  {
   "metadata": {
    "ExecuteTime": {
     "end_time": "2025-05-11T12:35:40.899096Z",
     "start_time": "2025-05-11T12:35:13.844119Z"
    }
   },
   "cell_type": "code",
   "source": [
    "print(\"מתחיל לטעון את מודל UMLS Small...\")\n",
    "start_time = time.time()\n",
    "\n",
    "model_path_small = \"D:\\\\MediAid\\\\umls-2024AB-full\\\\umls_sm_pt2ch_533bab5115c6c2d6.zip\"\n",
    "cat = CAT.load_model_pack(model_path_small)\n",
    "\n",
    "end_time = time.time()\n",
    "print(f\"המודל נטען בהצלחה! זמן טעינה: {end_time - start_time:.2f} שניות\")\n"
   ],
   "id": "43a4d84f77c70e15",
   "outputs": [
    {
     "name": "stdout",
     "output_type": "stream",
     "text": [
      "מתחיל לטעון את מודל UMLS Small...\n",
      "המודל נטען בהצלחה! זמן טעינה: 27.02 שניות\n"
     ]
    }
   ],
   "execution_count": 4
  },
  {
   "metadata": {
    "ExecuteTime": {
     "end_time": "2025-05-11T12:46:31.908341Z",
     "start_time": "2025-05-11T12:46:31.620274Z"
    }
   },
   "cell_type": "code",
   "source": [
    "test_text = \"Patient complains of headache and fever\"\n",
    "\n",
    "entities_info = cat.get_entities(test_text)\n",
    "\n",
    "for entity in entities_info:\n",
    "    print(f\"שם שזוהה: {entity['detected_name']}\")\n",
    "    print(f\"CUI: {entity['cui']}\")\n",
    "    print(f\"שם קונספט: {entity['pretty_name']}\")\n",
    "    print(f\"תחום: {entity['tui']}\")\n",
    "    print(\"-----\")\n"
   ],
   "id": "44d589fac3538edd",
   "outputs": [
    {
     "ename": "TypeError",
     "evalue": "string indices must be integers",
     "output_type": "error",
     "traceback": [
      "\u001B[1;31m---------------------------------------------------------------------------\u001B[0m",
      "\u001B[1;31mTypeError\u001B[0m                                 Traceback (most recent call last)",
      "Cell \u001B[1;32mIn[6], line 6\u001B[0m\n\u001B[0;32m      3\u001B[0m entities_info \u001B[38;5;241m=\u001B[39m cat\u001B[38;5;241m.\u001B[39mget_entities(test_text)\n\u001B[0;32m      5\u001B[0m \u001B[38;5;28;01mfor\u001B[39;00m entity \u001B[38;5;129;01min\u001B[39;00m entities_info:\n\u001B[1;32m----> 6\u001B[0m     \u001B[38;5;28mprint\u001B[39m(\u001B[38;5;124mf\u001B[39m\u001B[38;5;124m\"\u001B[39m\u001B[38;5;124mשם שזוהה: \u001B[39m\u001B[38;5;132;01m{\u001B[39;00mentity[\u001B[38;5;124m'\u001B[39m\u001B[38;5;124mdetected_name\u001B[39m\u001B[38;5;124m'\u001B[39m]\u001B[38;5;132;01m}\u001B[39;00m\u001B[38;5;124m\"\u001B[39m)\n\u001B[0;32m      7\u001B[0m     \u001B[38;5;28mprint\u001B[39m(\u001B[38;5;124mf\u001B[39m\u001B[38;5;124m\"\u001B[39m\u001B[38;5;124mCUI: \u001B[39m\u001B[38;5;132;01m{\u001B[39;00mentity[\u001B[38;5;124m'\u001B[39m\u001B[38;5;124mcui\u001B[39m\u001B[38;5;124m'\u001B[39m]\u001B[38;5;132;01m}\u001B[39;00m\u001B[38;5;124m\"\u001B[39m)\n\u001B[0;32m      8\u001B[0m     \u001B[38;5;28mprint\u001B[39m(\u001B[38;5;124mf\u001B[39m\u001B[38;5;124m\"\u001B[39m\u001B[38;5;124mשם קונספט: \u001B[39m\u001B[38;5;132;01m{\u001B[39;00mentity[\u001B[38;5;124m'\u001B[39m\u001B[38;5;124mpretty_name\u001B[39m\u001B[38;5;124m'\u001B[39m]\u001B[38;5;132;01m}\u001B[39;00m\u001B[38;5;124m\"\u001B[39m)\n",
      "\u001B[1;31mTypeError\u001B[0m: string indices must be integers"
     ]
    }
   ],
   "execution_count": 6
  },
  {
   "metadata": {
    "ExecuteTime": {
     "end_time": "2025-05-11T12:47:59.387301Z",
     "start_time": "2025-05-11T12:47:59.371469Z"
    }
   },
   "cell_type": "code",
   "source": "print(dir(cat))\n",
   "id": "b61a7835397b9210",
   "outputs": [
    {
     "name": "stdout",
     "output_type": "stream",
     "text": [
      "['DEFAULT_MODEL_PACK_NAME', '__call__', '__class__', '__delattr__', '__dict__', '__dir__', '__doc__', '__eq__', '__format__', '__ge__', '__getattribute__', '__gt__', '__hash__', '__init__', '__init_subclass__', '__le__', '__lt__', '__module__', '__ne__', '__new__', '__reduce__', '__reduce_ex__', '__repr__', '__setattr__', '__sizeof__', '__str__', '__subclasshook__', '__weakref__', '_add_nested_ent', '_addl_ner', '_batch_generator', '_create_pipeline', '_doc_to_out', '_generate_trimmed_texts', '_get_doc_annotations', '_get_training_start', '_get_trimmed_text', '_get_trimmed_texts', '_init_ckpts', '_meta_cats', '_mp_cons', '_multiprocessing_batch', '_pipe_error_handler', '_print_stats', '_rel_cats', '_run_nn_components', '_save_docs_to_file', '_separate_nn_components', '_versioning', 'add_and_train_concept', 'add_cui_to_group', 'attempt_unpack', 'cdb', 'config', 'create_model_pack', 'destroy_pipe', 'get_entities', 'get_entities_multi_texts', 'get_hash', 'get_json', 'get_model_card', 'linker', 'load_cdb', 'load_meta_cats', 'load_model_pack', 'multiprocessing_batch_char_size', 'multiprocessing_batch_docs_size', 'ner', 'pipe', 'train', 'train_supervised_from_json', 'train_supervised_raw', 'unlink_concept_name', 'usage_monitor', 'vocab']\n"
     ]
    }
   ],
   "execution_count": 7
  },
  {
   "metadata": {
    "ExecuteTime": {
     "end_time": "2025-05-11T13:07:19.240011Z",
     "start_time": "2025-05-11T13:07:19.141403Z"
    }
   },
   "cell_type": "code",
   "source": [
    "import json\n",
    "\n",
    "test_text = \"Patient complains of headache and fever\"\n",
    "entities = cat.get_entities(test_text)\n",
    "\n",
    "parsed_entities = []\n",
    "\n",
    "for entity in entities:\n",
    "    parsed_entity = {\n",
    "        \"cui\": entity.get('cui'),\n",
    "        \"name\": entity.get('name'),\n",
    "        \"source_value\": entity.get('source_value'),\n",
    "        \"detected_name\": entity.get('detected_name'),\n",
    "        \"pretty_name\": entity.get('pretty_name'),\n",
    "        \"start\": entity.get('start'),\n",
    "        \"end\": entity.get('end'),\n",
    "        \"acc\": entity.get('acc'),\n",
    "        \"meta_anns\": entity.get('meta_anns'),\n",
    "        \"context_similarity\": entity.get('context_similarity'),\n",
    "        \"type_ids\": entity.get('type_ids'),\n",
    "    }\n",
    "    parsed_entities.append(parsed_entity)\n",
    "\n",
    "# הדפסת התוצאה\n",
    "for ent in parsed_entities:\n",
    "    print(json.dumps(ent, indent=2, ensure_ascii=False))\n"
   ],
   "id": "982f379a04f3745b",
   "outputs": [
    {
     "ename": "AttributeError",
     "evalue": "'str' object has no attribute 'get'",
     "output_type": "error",
     "traceback": [
      "\u001B[1;31m---------------------------------------------------------------------------\u001B[0m",
      "\u001B[1;31mAttributeError\u001B[0m                            Traceback (most recent call last)",
      "Cell \u001B[1;32mIn[9], line 10\u001B[0m\n\u001B[0;32m      6\u001B[0m parsed_entities \u001B[38;5;241m=\u001B[39m []\n\u001B[0;32m      8\u001B[0m \u001B[38;5;28;01mfor\u001B[39;00m entity \u001B[38;5;129;01min\u001B[39;00m entities:\n\u001B[0;32m      9\u001B[0m     parsed_entity \u001B[38;5;241m=\u001B[39m {\n\u001B[1;32m---> 10\u001B[0m         \u001B[38;5;124m\"\u001B[39m\u001B[38;5;124mcui\u001B[39m\u001B[38;5;124m\"\u001B[39m: \u001B[43mentity\u001B[49m\u001B[38;5;241;43m.\u001B[39;49m\u001B[43mget\u001B[49m(\u001B[38;5;124m'\u001B[39m\u001B[38;5;124mcui\u001B[39m\u001B[38;5;124m'\u001B[39m),\n\u001B[0;32m     11\u001B[0m         \u001B[38;5;124m\"\u001B[39m\u001B[38;5;124mname\u001B[39m\u001B[38;5;124m\"\u001B[39m: entity\u001B[38;5;241m.\u001B[39mget(\u001B[38;5;124m'\u001B[39m\u001B[38;5;124mname\u001B[39m\u001B[38;5;124m'\u001B[39m),\n\u001B[0;32m     12\u001B[0m         \u001B[38;5;124m\"\u001B[39m\u001B[38;5;124msource_value\u001B[39m\u001B[38;5;124m\"\u001B[39m: entity\u001B[38;5;241m.\u001B[39mget(\u001B[38;5;124m'\u001B[39m\u001B[38;5;124msource_value\u001B[39m\u001B[38;5;124m'\u001B[39m),\n\u001B[0;32m     13\u001B[0m         \u001B[38;5;124m\"\u001B[39m\u001B[38;5;124mdetected_name\u001B[39m\u001B[38;5;124m\"\u001B[39m: entity\u001B[38;5;241m.\u001B[39mget(\u001B[38;5;124m'\u001B[39m\u001B[38;5;124mdetected_name\u001B[39m\u001B[38;5;124m'\u001B[39m),\n\u001B[0;32m     14\u001B[0m         \u001B[38;5;124m\"\u001B[39m\u001B[38;5;124mpretty_name\u001B[39m\u001B[38;5;124m\"\u001B[39m: entity\u001B[38;5;241m.\u001B[39mget(\u001B[38;5;124m'\u001B[39m\u001B[38;5;124mpretty_name\u001B[39m\u001B[38;5;124m'\u001B[39m),\n\u001B[0;32m     15\u001B[0m         \u001B[38;5;124m\"\u001B[39m\u001B[38;5;124mstart\u001B[39m\u001B[38;5;124m\"\u001B[39m: entity\u001B[38;5;241m.\u001B[39mget(\u001B[38;5;124m'\u001B[39m\u001B[38;5;124mstart\u001B[39m\u001B[38;5;124m'\u001B[39m),\n\u001B[0;32m     16\u001B[0m         \u001B[38;5;124m\"\u001B[39m\u001B[38;5;124mend\u001B[39m\u001B[38;5;124m\"\u001B[39m: entity\u001B[38;5;241m.\u001B[39mget(\u001B[38;5;124m'\u001B[39m\u001B[38;5;124mend\u001B[39m\u001B[38;5;124m'\u001B[39m),\n\u001B[0;32m     17\u001B[0m         \u001B[38;5;124m\"\u001B[39m\u001B[38;5;124macc\u001B[39m\u001B[38;5;124m\"\u001B[39m: entity\u001B[38;5;241m.\u001B[39mget(\u001B[38;5;124m'\u001B[39m\u001B[38;5;124macc\u001B[39m\u001B[38;5;124m'\u001B[39m),\n\u001B[0;32m     18\u001B[0m         \u001B[38;5;124m\"\u001B[39m\u001B[38;5;124mmeta_anns\u001B[39m\u001B[38;5;124m\"\u001B[39m: entity\u001B[38;5;241m.\u001B[39mget(\u001B[38;5;124m'\u001B[39m\u001B[38;5;124mmeta_anns\u001B[39m\u001B[38;5;124m'\u001B[39m),\n\u001B[0;32m     19\u001B[0m         \u001B[38;5;124m\"\u001B[39m\u001B[38;5;124mcontext_similarity\u001B[39m\u001B[38;5;124m\"\u001B[39m: entity\u001B[38;5;241m.\u001B[39mget(\u001B[38;5;124m'\u001B[39m\u001B[38;5;124mcontext_similarity\u001B[39m\u001B[38;5;124m'\u001B[39m),\n\u001B[0;32m     20\u001B[0m         \u001B[38;5;124m\"\u001B[39m\u001B[38;5;124mtype_ids\u001B[39m\u001B[38;5;124m\"\u001B[39m: entity\u001B[38;5;241m.\u001B[39mget(\u001B[38;5;124m'\u001B[39m\u001B[38;5;124mtype_ids\u001B[39m\u001B[38;5;124m'\u001B[39m),\n\u001B[0;32m     21\u001B[0m     }\n\u001B[0;32m     22\u001B[0m     parsed_entities\u001B[38;5;241m.\u001B[39mappend(parsed_entity)\n\u001B[0;32m     24\u001B[0m \u001B[38;5;66;03m# הדפסת התוצאה\u001B[39;00m\n",
      "\u001B[1;31mAttributeError\u001B[0m: 'str' object has no attribute 'get'"
     ]
    }
   ],
   "execution_count": 9
  },
  {
   "metadata": {
    "ExecuteTime": {
     "end_time": "2025-05-11T13:09:28.359615Z",
     "start_time": "2025-05-11T13:09:28.315846Z"
    }
   },
   "cell_type": "code",
   "source": [
    "test_text = \"Patient complains of headache and fever\"\n",
    "entities = cat.get_entities(test_text)\n",
    "\n",
    "print(f\"סוג האובייקט שהוחזר: {type(entities)}\")\n",
    "print(\"תוכן הדוגמה הראשונה:\")\n",
    "print(entities)\n"
   ],
   "id": "22bab718bdfcd296",
   "outputs": [
    {
     "name": "stdout",
     "output_type": "stream",
     "text": [
      "סוג האובייקט שהוחזר: <class 'dict'>\n",
      "תוכן הדוגמה הראשונה:\n",
      "{'entities': {0: {'pretty_name': 'Headache', 'cui': 'C0018681', 'type_ids': ['T184'], 'types': ['Sign or Symptom'], 'source_value': 'headache', 'detected_name': 'headache', 'acc': 0.99, 'context_similarity': 0.99, 'start': 21, 'end': 29, 'icd10': [{'chapter': 'R51', 'name': 'Headache'}], 'ontologies': [], 'snomed': ['S-139490008', 'S-158296002', 'S-158298001', 'S-162209005', 'S-206946005', 'S-206948006', 'S-25064002', 'S-271329006'], 'id': 0, 'meta_anns': {'Status': {'value': 'Affirmed', 'confidence': 0.9999957084655762, 'name': 'Status'}}}, 1: {'pretty_name': 'Fever', 'cui': 'C0015967', 'type_ids': ['T184'], 'types': ['Sign or Symptom'], 'source_value': 'fever', 'detected_name': 'fever', 'acc': 0.7732583851557058, 'context_similarity': 0.7732583851557058, 'start': 34, 'end': 39, 'icd10': [{'chapter': 'R50.9', 'name': 'Fever, unspecified'}], 'ontologies': [], 'snomed': ['S-158161008', 'S-179260008', 'S-206762007', 'S-248425001', 'S-248452006', 'S-274234009', 'S-367493005', 'S-386661006', 'S-50177009', 'S-64882008'], 'id': 1, 'meta_anns': {'Status': {'value': 'Affirmed', 'confidence': 0.9998212456703186, 'name': 'Status'}}}}, 'tokens': []}\n"
     ]
    }
   ],
   "execution_count": 12
  },
  {
   "metadata": {
    "ExecuteTime": {
     "end_time": "2025-05-11T13:17:33.267462Z",
     "start_time": "2025-05-11T13:17:33.203593Z"
    }
   },
   "cell_type": "code",
   "source": [
    "test_text = \"I have been suffering from a high fever since yesterday and I also have a headache.\"\n",
    "entities = cat.get_entities(test_text)\n",
    "\n",
    "parsed_entities = []\n",
    "\n",
    "for ent_id, data in entities[\"entities\"].items():\n",
    "    parsed_entity = {\n",
    "        \"cui\": data.get('cui'),\n",
    "        \"name\": data.get('pretty_name'),\n",
    "        \"source_value\": data.get('source_value'),\n",
    "        \"detected_name\": data.get('detected_name'),\n",
    "        \"start\": data.get('start'),\n",
    "        \"end\": data.get('end'),\n",
    "        \"acc\": data.get('acc'),\n",
    "        \"meta_anns\": data.get('meta_anns'),\n",
    "        \"context_similarity\": data.get('context_similarity'),\n",
    "        \"type_ids\": data.get('type_ids'),\n",
    "    }\n",
    "    parsed_entities.append(parsed_entity)\n",
    "\n",
    "# הדפסת התוצאה בצורה יפה\n",
    "import json\n",
    "for ent in parsed_entities:\n",
    "    print(json.dumps(ent, indent=2, ensure_ascii=False))\n"
   ],
   "id": "31861423819fdb21",
   "outputs": [
    {
     "name": "stdout",
     "output_type": "stream",
     "text": [
      "{\n",
      "  \"cui\": \"C0683278\",\n",
      "  \"name\": \"Mental Suffering\",\n",
      "  \"source_value\": \"suffering\",\n",
      "  \"detected_name\": \"suffering\",\n",
      "  \"start\": 12,\n",
      "  \"end\": 21,\n",
      "  \"acc\": 1.0,\n",
      "  \"meta_anns\": {\n",
      "    \"Status\": {\n",
      "      \"value\": \"Affirmed\",\n",
      "      \"confidence\": 0.9971042275428772,\n",
      "      \"name\": \"Status\"\n",
      "    }\n",
      "  },\n",
      "  \"context_similarity\": 1.0,\n",
      "  \"type_ids\": [\n",
      "    \"T048\"\n",
      "  ]\n",
      "}\n",
      "{\n",
      "  \"cui\": \"C0743973\",\n",
      "  \"name\": \"FEVER HIGH\",\n",
      "  \"source_value\": \"high fever\",\n",
      "  \"detected_name\": \"high~fever\",\n",
      "  \"start\": 29,\n",
      "  \"end\": 39,\n",
      "  \"acc\": 0.38345683069880865,\n",
      "  \"meta_anns\": {\n",
      "    \"Status\": {\n",
      "      \"value\": \"Affirmed\",\n",
      "      \"confidence\": 0.9982951283454895,\n",
      "      \"name\": \"Status\"\n",
      "    }\n",
      "  },\n",
      "  \"context_similarity\": 0.38345683069880865,\n",
      "  \"type_ids\": [\n",
      "    \"T033\"\n",
      "  ]\n",
      "}\n",
      "{\n",
      "  \"cui\": \"C0018681\",\n",
      "  \"name\": \"Headache\",\n",
      "  \"source_value\": \"headache\",\n",
      "  \"detected_name\": \"headache\",\n",
      "  \"start\": 74,\n",
      "  \"end\": 82,\n",
      "  \"acc\": 0.7786484286219841,\n",
      "  \"meta_anns\": {\n",
      "    \"Status\": {\n",
      "      \"value\": \"Affirmed\",\n",
      "      \"confidence\": 0.9625298976898193,\n",
      "      \"name\": \"Status\"\n",
      "    }\n",
      "  },\n",
      "  \"context_similarity\": 0.7786484286219841,\n",
      "  \"type_ids\": [\n",
      "    \"T184\"\n",
      "  ]\n",
      "}\n"
     ]
    }
   ],
   "execution_count": 17
  },
  {
   "metadata": {
    "ExecuteTime": {
     "end_time": "2025-05-11T13:15:01.992265Z",
     "start_time": "2025-05-11T13:15:01.968586Z"
    }
   },
   "cell_type": "code",
   "source": [
    "def extract_symptoms(cat, text):\n",
    "    entities = cat.get_entities(text)\n",
    "    symptom_entities = []\n",
    "\n",
    "    for ent_id, data in entities.get(\"entities\", {}).items():\n",
    "        type_ids = data.get(\"type_ids\", [])\n",
    "        # T184 = Sign or Symptom לפי UMLS\n",
    "        if \"T184\" in type_ids:\n",
    "            symptom = {\n",
    "                \"cui\": data.get(\"cui\"),\n",
    "                \"name\": data.get(\"pretty_name\"),\n",
    "                \"detected_name\": data.get(\"detected_name\"),\n",
    "                \"start\": data.get(\"start\"),\n",
    "                \"end\": data.get(\"end\"),\n",
    "                \"acc\": data.get(\"acc\"),\n",
    "                \"meta_anns\": data.get(\"meta_anns\"),\n",
    "            }\n",
    "            symptom_entities.append(symptom)\n",
    "\n",
    "    return symptom_entities\n"
   ],
   "id": "46f6b42d100f2352",
   "outputs": [],
   "execution_count": 14
  },
  {
   "metadata": {
    "ExecuteTime": {
     "end_time": "2025-05-11T14:06:58.285778Z",
     "start_time": "2025-05-11T14:06:58.196169Z"
    }
   },
   "cell_type": "code",
   "source": [
    "text = \"I have nausea, dizziness, and fatigue.\"\n",
    "symptoms = extract_symptoms(cat, text)\n",
    "\n",
    "for s in symptoms:\n",
    "    print(json.dumps(s, indent=2, ensure_ascii=False))\n"
   ],
   "id": "fb46c19ce5f74eab",
   "outputs": [
    {
     "name": "stdout",
     "output_type": "stream",
     "text": [
      "{\n",
      "  \"cui\": \"C0027497\",\n",
      "  \"name\": \"Nausea\",\n",
      "  \"detected_name\": \"nausea\",\n",
      "  \"start\": 7,\n",
      "  \"end\": 13,\n",
      "  \"acc\": 0.99,\n",
      "  \"meta_anns\": {\n",
      "    \"Status\": {\n",
      "      \"value\": \"Affirmed\",\n",
      "      \"confidence\": 0.9999866485595703,\n",
      "      \"name\": \"Status\"\n",
      "    }\n",
      "  }\n",
      "}\n",
      "{\n",
      "  \"cui\": \"C0012833\",\n",
      "  \"name\": \"Dizziness\",\n",
      "  \"detected_name\": \"dizziness\",\n",
      "  \"start\": 15,\n",
      "  \"end\": 24,\n",
      "  \"acc\": 0.99,\n",
      "  \"meta_anns\": {\n",
      "    \"Status\": {\n",
      "      \"value\": \"Affirmed\",\n",
      "      \"confidence\": 0.9999866485595703,\n",
      "      \"name\": \"Status\"\n",
      "    }\n",
      "  }\n",
      "}\n",
      "{\n",
      "  \"cui\": \"C0015672\",\n",
      "  \"name\": \"Fatigue\",\n",
      "  \"detected_name\": \"fatigue\",\n",
      "  \"start\": 30,\n",
      "  \"end\": 37,\n",
      "  \"acc\": 0.99,\n",
      "  \"meta_anns\": {\n",
      "    \"Status\": {\n",
      "      \"value\": \"Affirmed\",\n",
      "      \"confidence\": 0.9996278285980225,\n",
      "      \"name\": \"Status\"\n",
      "    }\n",
      "  }\n",
      "}\n"
     ]
    }
   ],
   "execution_count": 21
  },
  {
   "metadata": {
    "ExecuteTime": {
     "end_time": "2025-05-11T13:22:04.793008Z",
     "start_time": "2025-05-11T13:22:04.714102Z"
    }
   },
   "cell_type": "code",
   "source": [
    "text = \"I have been suffering from a high fever since yesterday and I also have a headache.\"\n",
    "entities = cat.get_entities(text)\n",
    "print([v['detected_name'] for v in entities['entities'].values()])\n"
   ],
   "id": "ae02aeac44b70ef7",
   "outputs": [
    {
     "name": "stdout",
     "output_type": "stream",
     "text": [
      "['suffering', 'high~fever', 'headache']\n"
     ]
    }
   ],
   "execution_count": 18
  }
 ],
 "metadata": {
  "kernelspec": {
   "display_name": "Python 3",
   "language": "python",
   "name": "python3"
  },
  "language_info": {
   "codemirror_mode": {
    "name": "ipython",
    "version": 2
   },
   "file_extension": ".py",
   "mimetype": "text/x-python",
   "name": "python",
   "nbconvert_exporter": "python",
   "pygments_lexer": "ipython2",
   "version": "2.7.6"
  }
 },
 "nbformat": 4,
 "nbformat_minor": 5
}
